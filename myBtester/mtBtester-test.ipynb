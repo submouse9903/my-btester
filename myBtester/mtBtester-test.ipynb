{
 "cells": [
  {
   "metadata": {
    "ExecuteTime": {
     "end_time": "2024-08-03T12:55:47.042033Z",
     "start_time": "2024-08-03T12:55:42.631403Z"
    }
   },
   "cell_type": "code",
   "source": "!pip install pandas_ta",
   "id": "1d1bc09c98b16df3",
   "outputs": [
    {
     "name": "stdout",
     "output_type": "stream",
     "text": [
      "Requirement already satisfied: pandas_ta in c:\\users\\pdjpc1\\anaconda3\\lib\\site-packages (0.3.14b0)\n",
      "Requirement already satisfied: pandas in c:\\users\\pdjpc1\\anaconda3\\lib\\site-packages (from pandas_ta) (2.1.4)\n",
      "Requirement already satisfied: numpy<2,>=1.23.2 in c:\\users\\pdjpc1\\anaconda3\\lib\\site-packages (from pandas->pandas_ta) (1.26.4)\n",
      "Requirement already satisfied: python-dateutil>=2.8.2 in c:\\users\\pdjpc1\\anaconda3\\lib\\site-packages (from pandas->pandas_ta) (2.8.2)\n",
      "Requirement already satisfied: pytz>=2020.1 in c:\\users\\pdjpc1\\anaconda3\\lib\\site-packages (from pandas->pandas_ta) (2023.3.post1)\n",
      "Requirement already satisfied: tzdata>=2022.1 in c:\\users\\pdjpc1\\anaconda3\\lib\\site-packages (from pandas->pandas_ta) (2023.3)\n",
      "Requirement already satisfied: six>=1.5 in c:\\users\\pdjpc1\\anaconda3\\lib\\site-packages (from python-dateutil>=2.8.2->pandas->pandas_ta) (1.16.0)\n"
     ]
    }
   ],
   "execution_count": 13
  },
  {
   "metadata": {
    "ExecuteTime": {
     "end_time": "2024-08-03T12:33:40.490068Z",
     "start_time": "2024-08-03T12:33:40.485934Z"
    }
   },
   "cell_type": "code",
   "source": [
    "import warnings\n",
    "warnings.filterwarnings(\"ignore\")"
   ],
   "id": "c9870334",
   "outputs": [],
   "execution_count": 2
  },
  {
   "cell_type": "code",
   "id": "f0c110be",
   "metadata": {
    "ExecuteTime": {
     "end_time": "2024-08-03T12:33:54.904811Z",
     "start_time": "2024-08-03T12:33:42.011299Z"
    }
   },
   "source": [
    "# 지금 터틀전략 시스템에 대해 이해를 하고있는가. 진입, 청산, 피라미딩의 세부 규칙이 추세추종 베팅철학에 부합하는가 이런 것들에 대한 이해를 했는가\n",
    "import yfinance as yf\n",
    "import pandas as pd\n",
    "import requests\n",
    "\n",
    "start = '2000-01-01'\n",
    "end = '2024-07-01'\n",
    "\n",
    "assets = 'nasdaq100'\n",
    "benchmark = 'NQ=F'\n",
    "\n",
    "ldf = pd.read_html(requests.get(f'https://www.slickcharts.com/{assets}', headers={'User-agent': 'Mozilla/5.0'}).text)\n",
    "symbols = [x.replace('.','-') for x in ldf[0]['Symbol'] if isinstance(x, str)]\n",
    "downloads = yf.download([*symbols, benchmark], start, end, group_by='ticker')\n",
    "\n",
    "data = downloads[symbols]\n",
    "data\n",
    "# data.set_index(data.DatetimeIndex(data[\"Date\"]), inplace=True)\n",
    "benchmark = downloads[benchmark]['Close']"
   ],
   "outputs": [
    {
     "name": "stderr",
     "output_type": "stream",
     "text": [
      "[*********************100%%**********************]  102 of 102 completed\n",
      "\n",
      "1 Failed download:\n",
      "['CMCSA']: OperationalError('database is locked')\n"
     ]
    }
   ],
   "execution_count": 3
  },
  {
   "cell_type": "code",
   "id": "68958770",
   "metadata": {
    "ExecuteTime": {
     "end_time": "2024-08-03T12:35:16.033780Z",
     "start_time": "2024-08-03T12:35:15.998925Z"
    }
   },
   "source": [
    "data2 = data.fillna(method='ffill', limit=1)"
   ],
   "outputs": [],
   "execution_count": 6
  },
  {
   "cell_type": "raw",
   "source": [
    "만약 터틀 전략이라면 코드를 어떻게 고쳐야 할까, 주어진 클래스를 변경해야할까 아니면 수정 없이 함수에서 구현이 가능할까...\n",
    " 아 피라미딩 전략도 추가해야 되는데...기하평균 기반 베팅 아이디어도\n",
    "\n",
    "잔고 감소에대해 베팅 규모를 줄이는 로직 추가: 계좌 잔고 11% 감소하면 매매규모를 20% 줄이는 것\n",
    "\n",
    "터틀피라미딩 규칙: 진입하고 1N 상승마다 투자유닛 추가 이런 식으로 최대 5 유닛까지\n",
    "               거래 첫 날에는 1/2N, 이후에는 2N, 새 유닛이 생길때마다 모든 스톱은 최근 추가유닛의 2N으로 올라감, 수익계좌에 과감한 베팅\n",
    "\n",
    "* 이제 피라미딩 규칙을 만들자, 손절 값도 위로 올리면서 이런 로직을 구현해보자"
   ],
   "metadata": {
    "collapsed": false
   },
   "id": "ad58d0ce86cea1ef"
  },
  {
   "cell_type": "code",
   "id": "796926f9",
   "metadata": {
    "ExecuteTime": {
     "end_time": "2024-08-03T12:38:12.533585Z",
     "start_time": "2024-08-03T12:38:12.489146Z"
    }
   },
   "source": [
    "import sys\n",
    "sys.path.append('/Users/dongin/Desktop/my-btester/myBtester')\n",
    "from myBtester import Strategy, Backtest\n",
    "import talib #talib랑 판다스ewm 계산 방식이 다르다. 참고.. 그리고 데이터 중간에 결측값이 하나도 있으면 계산 못함.\n",
    "import time\n",
    "start = time.time()\n",
    "\n",
    "\n",
    "class MACrossoverStrategy_RiskManagement_ATR(Strategy):\n",
    "\n",
    "    def init(self, fast_period: int, slow_period: int):\n",
    "        self.max_total_unit_risk = .01 # 거래당 1% 리스크 지는 것\n",
    "        self.highpoint_of_account = 0 #초기 현금으로 최대 계좌 초기화\n",
    "        self.account_pole = self.cash # 자산 최대값 기준로 리스크단위 증감 계산하기 위함 초기 계좌기준 10%씩 늘어나면 갱신하는 구조로할까\n",
    "\n",
    "        self.fast_ma = {} #next에서 가격데이터랑 같은 날짜로 반복문이 돌려진다.\n",
    "        self.slow_ma = {}\n",
    "        self.atr = {}\n",
    "\n",
    "        for symbol in self.symbols:\n",
    "            self.fast_ma[symbol] = talib.EMA(self.data[(symbol,'Close')], timeperiod=fast_period)\n",
    "            self.slow_ma[symbol] = talib.EMA(self.data[(symbol,'Close')], timeperiod=slow_period)\n",
    "            self.atr[symbol] = talib.ATR(self.data[(symbol,'High')], self.data[(symbol,'Low')], self.data[(symbol,'Close')], timeperiod=20)\n",
    "\n",
    "        \n",
    "    def next(self, i, record): #지표까지 모두 준비된 데이터에 대해서 모두 동일한 시점에서 시작하는 부분이다. 35,285.57%\n",
    "      # i는 이동하는 캔들이다. 계속 캔들을 갱신하는 것이다, 지표는 앞전에 init함수로 미리 데이터를 만들어 놓고, 이 부분에서 하나씩 갱신하는 것.\n",
    "        self.riskSize()\n",
    "\n",
    "        for symbol in self.symbols:\n",
    "            open_condition1 = self.fast_ma[symbol][i-1] > self.slow_ma[symbol][i-1]\n",
    "            if open_condition1 and self.atr[symbol][i]>0: #해당 종목에서 포지션이 있더라도 조전에 만족하면 그냥 진입함. 피라미딩같은 느낌\n",
    "                position_size = self.positionSize(record[(symbol,'Open')], self.atr[symbol][i])\n",
    "                stop_loss = record[(symbol,'Open')]-self.atr[symbol][i]\n",
    "                self.open(symbol=symbol, price=record[(symbol,'Open')], size=position_size, stopLoss=stop_loss)\n",
    "\n",
    "        for position in self.open_positions[:]: # [:]리스트 맨 앞부터 맨 뒤까지 불러오는 슬라이싱, i가 돌면서 매 순간마다 포지션을 수시로 불러오는 것다. 그리고 조건이 되면 close를 하는 것이고\n",
    "            # 매 순간마다 포지션을 모두 불러오고 해당 순간의 가격에 대해서 조건이 맞으면 close를 하는 로직인데.. 처음 진입 시점의 atr을 알아야된다고...\n",
    "            close_condition1 = self.fast_ma[position.symbol][i-1] < self.slow_ma[position.symbol][i-1]\n",
    "            stoploss_condition1 = position.stopLoss > record[(position.symbol,'Open')]\n",
    "            if close_condition1 or stoploss_condition1: #atr만이 청산전략이 아니다. 다른 가격적인 조건이 청산 조건이 추가되어야함. 청산에서 atr은 정해진 리스크량으로 정의하기 위해서 사용된 것\n",
    "                self.close(position=position, price=record[(position.symbol, 'Open')])\n",
    "\n",
    "\n",
    "    def positionSize(self, price: float, atr: float):\n",
    "        if pd.isna(self.cash) or pd.isna(self.assets_value) or pd.isna(self.max_total_unit_risk) or pd.isna(atr):return 0\n",
    "        return round((self.cash+self.assets_value) * self.max_total_unit_risk / (2*atr)) if price > 0 else 0\n",
    "\n",
    "    def riskSize(self):\n",
    "        self.highpoint_of_account = max(self.highpoint_of_account, self.cash+self.assets_value)\n",
    "        if self.highpoint_of_account > self.account_pole * 1.11: self.account_pole *= 1.11\n",
    "        # self.account_pole = self.highpoint_of_account\n",
    "        condition1 = self.cash+self.assets_value < self.account_pole * (1-0.11)\n",
    "        condition2 = self.cash+self.assets_value < self.account_pole * (1-0.22)\n",
    "        condition3 = self.cash+self.assets_value < self.account_pole * (1-0.33)\n",
    "        condition1_2 = self.cash+self.assets_value > self.account_pole * (1-0.22)\n",
    "        condition2_3 = self.cash+self.assets_value > self.account_pole * (1-0.33)\n",
    "        condition3_4 = self.cash+self.assets_value > self.account_pole * (1-0.44)\n",
    "        if condition1 and condition1_2: self.max_total_unit_risk = .01*0.8          *(0.8*0.8*0.8*0.8)\n",
    "        if condition2 and condition2_3: self.max_total_unit_risk = .01*0.8*0.8      *(0.8*0.8*0.8*0.8)\n",
    "        if condition3 and condition3_4: self.max_total_unit_risk = .01*0.8*0.8*0.8  *(0.8*0.8*0.8*0.8)\n",
    "        if not condition1: self.max_total_unit_risk = .01 # 다시 자산이 정상화되면 리스크 단위도 정상화\n",
    "\n",
    "\n",
    "\n",
    "from btester import Backtest #초기 자산이 얼마냐에따라 누적 수익이 달라져있음...음 아마 시작 부분이 추세가 없어서 진입할때 가격이 비싸 못사는 경우로 그냥 안사게되니 그럴수도\n",
    "backtest = Backtest(MACrossoverStrategy_RiskManagement_ATR, data2, commission=.003, cash=1e3)\n",
    "result = backtest.run(20, 60)\n",
    "end = time.time()\n",
    "print(f\"{end - start:.5f} sec\")\n",
    "\n",
    "\n",
    "import quantstats as qs\n",
    "qs.reports.metrics(result.returns, benchmark)\n",
    "qs.plots.log_returns(result.returns, benchmark, fontname='sans-serif')\n",
    "qs.plots.drawdown(result.returns, figsize=(10,3), fontname='sans-serif')\n",
    "\n"
   ],
   "outputs": [
    {
     "ename": "ModuleNotFoundError",
     "evalue": "No module named 'talib'",
     "output_type": "error",
     "traceback": [
      "\u001B[1;31m---------------------------------------------------------------------------\u001B[0m",
      "\u001B[1;31mModuleNotFoundError\u001B[0m                       Traceback (most recent call last)",
      "Cell \u001B[1;32mIn[11], line 4\u001B[0m\n\u001B[0;32m      2\u001B[0m sys\u001B[38;5;241m.\u001B[39mpath\u001B[38;5;241m.\u001B[39mappend(\u001B[38;5;124m'\u001B[39m\u001B[38;5;124m/Users/dongin/Desktop/my-btester/myBtester\u001B[39m\u001B[38;5;124m'\u001B[39m)\n\u001B[0;32m      3\u001B[0m \u001B[38;5;28;01mfrom\u001B[39;00m \u001B[38;5;21;01mmyBtester\u001B[39;00m \u001B[38;5;28;01mimport\u001B[39;00m Strategy, Backtest\n\u001B[1;32m----> 4\u001B[0m \u001B[38;5;28;01mimport\u001B[39;00m \u001B[38;5;21;01mtalib\u001B[39;00m \u001B[38;5;66;03m#talib랑 판다스ewm 계산 방식이 다르다. 참고.. 그리고 데이터 중간에 결측값이 하나도 있으면 계산 못함.\u001B[39;00m\n\u001B[0;32m      5\u001B[0m \u001B[38;5;28;01mimport\u001B[39;00m \u001B[38;5;21;01mtime\u001B[39;00m\n\u001B[0;32m      6\u001B[0m start \u001B[38;5;241m=\u001B[39m time\u001B[38;5;241m.\u001B[39mtime()\n",
      "\u001B[1;31mModuleNotFoundError\u001B[0m: No module named 'talib'"
     ]
    }
   ],
   "execution_count": 11
  },
  {
   "cell_type": "code",
   "execution_count": 6,
   "id": "92fb22d1",
   "metadata": {},
   "outputs": [
    {
     "data": {
      "text/plain": "   symbol  open_date  last_date  open_price  last_price  position_size  \\\n0    META 2023-03-14 2024-06-28  187.580002  504.220001             59   \n1    AVGO 2023-10-30 2024-06-28   84.110001  160.552994            239   \n2    META 2023-10-30 2024-06-28  299.089996  504.220001             61   \n3    COST 2023-10-30 2024-06-28  545.739990  849.989990             65   \n4    TMUS 2023-10-30 2024-06-28  141.320007  176.179993            216   \n5    AVGO 2023-11-01 2024-06-28   84.199997  160.552994            249   \n6    META 2023-11-01 2024-06-28  301.850006  504.220001             62   \n7    META 2023-11-03 2024-06-28  312.549988  504.220001             65   \n8    NVDA 2024-05-03 2024-06-28   87.789001  123.540001            600   \n9    NVDA 2024-05-15 2024-06-28   92.472000  123.540001            687   \n10   NVDA 2024-05-28 2024-06-28  110.244003  123.540001            643   \n\n     profit_loss  change_pct  current_value  long takeProfit    stopLoss  \n0   18681.759964  168.802642   29748.980072   NaN       None  180.817217  \n1   18269.875366   90.884547   38372.165512   NaN       None   81.600091  \n2   12512.930298   68.584709   30757.420074   NaN       None  289.236007  \n3   19776.250000   55.749992   55249.349365   NaN       None  536.581979  \n4    7529.756836   24.667410   38054.878418   NaN       None  138.545141  \n5   19011.896210   90.680522   39977.695450   NaN       None   81.782228  \n6   12546.939697   67.043230   31261.640076   NaN       None  292.059330  \n7   12458.550873   61.324595   32774.300079   NaN       None  302.981627  \n8   21450.599670   40.723780   74124.000549   NaN       None   83.931100  \n9   21343.716545   33.597198   84871.980629   NaN       None   88.963905  \n10   8549.326469   12.060518   79436.220589   NaN       None  106.332800  ",
      "text/html": "<div>\n<style scoped>\n    .dataframe tbody tr th:only-of-type {\n        vertical-align: middle;\n    }\n\n    .dataframe tbody tr th {\n        vertical-align: top;\n    }\n\n    .dataframe thead th {\n        text-align: right;\n    }\n</style>\n<table border=\"1\" class=\"dataframe\">\n  <thead>\n    <tr style=\"text-align: right;\">\n      <th></th>\n      <th>symbol</th>\n      <th>open_date</th>\n      <th>last_date</th>\n      <th>open_price</th>\n      <th>last_price</th>\n      <th>position_size</th>\n      <th>profit_loss</th>\n      <th>change_pct</th>\n      <th>current_value</th>\n      <th>long</th>\n      <th>takeProfit</th>\n      <th>stopLoss</th>\n    </tr>\n  </thead>\n  <tbody>\n    <tr>\n      <th>0</th>\n      <td>META</td>\n      <td>2023-03-14</td>\n      <td>2024-06-28</td>\n      <td>187.580002</td>\n      <td>504.220001</td>\n      <td>59</td>\n      <td>18681.759964</td>\n      <td>168.802642</td>\n      <td>29748.980072</td>\n      <td>NaN</td>\n      <td>None</td>\n      <td>180.817217</td>\n    </tr>\n    <tr>\n      <th>1</th>\n      <td>AVGO</td>\n      <td>2023-10-30</td>\n      <td>2024-06-28</td>\n      <td>84.110001</td>\n      <td>160.552994</td>\n      <td>239</td>\n      <td>18269.875366</td>\n      <td>90.884547</td>\n      <td>38372.165512</td>\n      <td>NaN</td>\n      <td>None</td>\n      <td>81.600091</td>\n    </tr>\n    <tr>\n      <th>2</th>\n      <td>META</td>\n      <td>2023-10-30</td>\n      <td>2024-06-28</td>\n      <td>299.089996</td>\n      <td>504.220001</td>\n      <td>61</td>\n      <td>12512.930298</td>\n      <td>68.584709</td>\n      <td>30757.420074</td>\n      <td>NaN</td>\n      <td>None</td>\n      <td>289.236007</td>\n    </tr>\n    <tr>\n      <th>3</th>\n      <td>COST</td>\n      <td>2023-10-30</td>\n      <td>2024-06-28</td>\n      <td>545.739990</td>\n      <td>849.989990</td>\n      <td>65</td>\n      <td>19776.250000</td>\n      <td>55.749992</td>\n      <td>55249.349365</td>\n      <td>NaN</td>\n      <td>None</td>\n      <td>536.581979</td>\n    </tr>\n    <tr>\n      <th>4</th>\n      <td>TMUS</td>\n      <td>2023-10-30</td>\n      <td>2024-06-28</td>\n      <td>141.320007</td>\n      <td>176.179993</td>\n      <td>216</td>\n      <td>7529.756836</td>\n      <td>24.667410</td>\n      <td>38054.878418</td>\n      <td>NaN</td>\n      <td>None</td>\n      <td>138.545141</td>\n    </tr>\n    <tr>\n      <th>5</th>\n      <td>AVGO</td>\n      <td>2023-11-01</td>\n      <td>2024-06-28</td>\n      <td>84.199997</td>\n      <td>160.552994</td>\n      <td>249</td>\n      <td>19011.896210</td>\n      <td>90.680522</td>\n      <td>39977.695450</td>\n      <td>NaN</td>\n      <td>None</td>\n      <td>81.782228</td>\n    </tr>\n    <tr>\n      <th>6</th>\n      <td>META</td>\n      <td>2023-11-01</td>\n      <td>2024-06-28</td>\n      <td>301.850006</td>\n      <td>504.220001</td>\n      <td>62</td>\n      <td>12546.939697</td>\n      <td>67.043230</td>\n      <td>31261.640076</td>\n      <td>NaN</td>\n      <td>None</td>\n      <td>292.059330</td>\n    </tr>\n    <tr>\n      <th>7</th>\n      <td>META</td>\n      <td>2023-11-03</td>\n      <td>2024-06-28</td>\n      <td>312.549988</td>\n      <td>504.220001</td>\n      <td>65</td>\n      <td>12458.550873</td>\n      <td>61.324595</td>\n      <td>32774.300079</td>\n      <td>NaN</td>\n      <td>None</td>\n      <td>302.981627</td>\n    </tr>\n    <tr>\n      <th>8</th>\n      <td>NVDA</td>\n      <td>2024-05-03</td>\n      <td>2024-06-28</td>\n      <td>87.789001</td>\n      <td>123.540001</td>\n      <td>600</td>\n      <td>21450.599670</td>\n      <td>40.723780</td>\n      <td>74124.000549</td>\n      <td>NaN</td>\n      <td>None</td>\n      <td>83.931100</td>\n    </tr>\n    <tr>\n      <th>9</th>\n      <td>NVDA</td>\n      <td>2024-05-15</td>\n      <td>2024-06-28</td>\n      <td>92.472000</td>\n      <td>123.540001</td>\n      <td>687</td>\n      <td>21343.716545</td>\n      <td>33.597198</td>\n      <td>84871.980629</td>\n      <td>NaN</td>\n      <td>None</td>\n      <td>88.963905</td>\n    </tr>\n    <tr>\n      <th>10</th>\n      <td>NVDA</td>\n      <td>2024-05-28</td>\n      <td>2024-06-28</td>\n      <td>110.244003</td>\n      <td>123.540001</td>\n      <td>643</td>\n      <td>8549.326469</td>\n      <td>12.060518</td>\n      <td>79436.220589</td>\n      <td>NaN</td>\n      <td>None</td>\n      <td>106.332800</td>\n    </tr>\n  </tbody>\n</table>\n</div>"
     },
     "execution_count": 6,
     "metadata": {},
     "output_type": "execute_result"
    }
   ],
   "source": [
    "open_positions = pd.DataFrame(result.open_positions)\n",
    "open_positions"
   ]
  },
  {
   "cell_type": "code",
   "execution_count": 6,
   "id": "4c7bd20e",
   "metadata": {},
   "outputs": [],
   "source": []
  }
 ],
 "metadata": {
  "kernelspec": {
   "display_name": "Python 3 (ipykernel)",
   "language": "python",
   "name": "python3"
  },
  "language_info": {
   "codemirror_mode": {
    "name": "ipython",
    "version": 3
   },
   "file_extension": ".py",
   "mimetype": "text/x-python",
   "name": "python",
   "nbconvert_exporter": "python",
   "pygments_lexer": "ipython3",
   "version": "3.9.13"
  }
 },
 "nbformat": 4,
 "nbformat_minor": 5
}
