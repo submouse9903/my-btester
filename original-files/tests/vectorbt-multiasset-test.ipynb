{
 "cells": [
  {
   "cell_type": "code",
   "execution_count": 10,
   "outputs": [],
   "source": [
    "import numpy as np\n",
    "import pandas as pd\n",
    "from numba import njit\n",
    "import vectorbt as vbt\n",
    "import datetime\n",
    "\n",
    "# 데이터 다운로드\n",
    "symbols = ['AAPL', 'MSFT', 'GOOGL']\n",
    "start_date = datetime.datetime(2020, 1, 1)\n",
    "end_date = datetime.datetime(2023, 1, 1)\n",
    "\n",
    "data = vbt.YFData.download(symbols, start=start_date, end=end_date)\n",
    "\n",
    "close = data.get('Close')\n",
    "high = data.get('High')\n",
    "low = data.get('Low')\n",
    "\n",
    "sma20 = vbt.MA.run(window=20, close=close)\n",
    "sma60 = vbt.MA.run(window=60, close=close)\n",
    "atr14 = vbt.IndicatorFactory.from_talib('ATR').run(high, low, close, timeperiod=14).real\n",
    "\n",
    "entries = sma20.ma_crossed_above(sma60)\n",
    "exits = sma20.ma_crossed_below(sma60)\n",
    "\n",
    "\n",
    "returns = close.pct_change()\n",
    "corr = returns.corr() # 이 값을 시간에 대해서 돌아가야 된다. order_func_nb함수 안에서 c에 대해서 돌아가는 것."
   ],
   "metadata": {
    "collapsed": false
   }
  },
  {
   "cell_type": "code",
   "execution_count": 15,
   "outputs": [
    {
     "ename": "ValueError",
     "evalue": "CallSeqType.Auto must be implemented manually. Use sort_call_seq_nb in pre_segment_func_nb.",
     "output_type": "error",
     "traceback": [
      "\u001B[0;31m---------------------------------------------------------------------------\u001B[0m",
      "\u001B[0;31mValueError\u001B[0m                                Traceback (most recent call last)",
      "Input \u001B[0;32mIn [15]\u001B[0m, in \u001B[0;36m<cell line: 34>\u001B[0;34m()\u001B[0m\n\u001B[1;32m     31\u001B[0m direction \u001B[38;5;241m=\u001B[39m np\u001B[38;5;241m.\u001B[39marray([\u001B[38;5;241m1\u001B[39m] \u001B[38;5;241m*\u001B[39m close\u001B[38;5;241m.\u001B[39mshape[\u001B[38;5;241m1\u001B[39m])  \u001B[38;5;66;03m# long only\u001B[39;00m\n\u001B[1;32m     33\u001B[0m \u001B[38;5;66;03m#포트폴리오 생성\u001B[39;00m\n\u001B[0;32m---> 34\u001B[0m portfolio \u001B[38;5;241m=\u001B[39m \u001B[43mvbt\u001B[49m\u001B[38;5;241;43m.\u001B[39;49m\u001B[43mPortfolio\u001B[49m\u001B[38;5;241;43m.\u001B[39;49m\u001B[43mfrom_order_func\u001B[49m\u001B[43m(\u001B[49m\n\u001B[1;32m     35\u001B[0m \u001B[43m    \u001B[49m\u001B[43mclose\u001B[49m\u001B[38;5;241;43m=\u001B[39;49m\u001B[43mclose\u001B[49m\u001B[43m,\u001B[49m\n\u001B[1;32m     36\u001B[0m \u001B[43m    \u001B[49m\u001B[43mentries\u001B[49m\u001B[38;5;241;43m=\u001B[39;49m\u001B[43mentries\u001B[49m\u001B[43m,\u001B[49m\n\u001B[1;32m     37\u001B[0m \u001B[43m    \u001B[49m\u001B[43mexits\u001B[49m\u001B[38;5;241;43m=\u001B[39;49m\u001B[43mexits\u001B[49m\u001B[43m,\u001B[49m\n\u001B[1;32m     38\u001B[0m \u001B[43m    \u001B[49m\u001B[43morder_func_nb\u001B[49m\u001B[38;5;241;43m=\u001B[39;49m\u001B[43morder_func_nb\u001B[49m\u001B[43m,\u001B[49m\n\u001B[1;32m     39\u001B[0m \u001B[43m    \u001B[49m\u001B[43msize\u001B[49m\u001B[38;5;241;43m=\u001B[39;49m\u001B[43mnp\u001B[49m\u001B[38;5;241;43m.\u001B[39;49m\u001B[43marray\u001B[49m\u001B[43m(\u001B[49m\u001B[43m[\u001B[49m\u001B[38;5;241;43m1\u001B[39;49m\u001B[43m]\u001B[49m\u001B[43m \u001B[49m\u001B[38;5;241;43m*\u001B[39;49m\u001B[43m \u001B[49m\u001B[38;5;28;43mlen\u001B[39;49m\u001B[43m(\u001B[49m\u001B[43mclose\u001B[49m\u001B[43m)\u001B[49m\u001B[43m)\u001B[49m\u001B[43m,\u001B[49m\n\u001B[1;32m     40\u001B[0m \u001B[43m    \u001B[49m\u001B[43mdirection\u001B[49m\u001B[43m \u001B[49m\u001B[38;5;241;43m=\u001B[39;49m\u001B[43m \u001B[49m\u001B[43mdirection\u001B[49m\u001B[43m,\u001B[49m\n\u001B[1;32m     41\u001B[0m \u001B[43m    \u001B[49m\u001B[43morder_args\u001B[49m\u001B[38;5;241;43m=\u001B[39;49m\u001B[43m(\u001B[49m\u001B[43matr14\u001B[49m\u001B[38;5;241;43m.\u001B[39;49m\u001B[43mvalues\u001B[49m\u001B[43m)\u001B[49m\u001B[43m,\u001B[49m\u001B[38;5;66;43;03m#, corr_matrix.values),\u001B[39;49;00m\n\u001B[1;32m     42\u001B[0m \u001B[43m    \u001B[49m\u001B[43minit_cash\u001B[49m\u001B[38;5;241;43m=\u001B[39;49m\u001B[38;5;241;43m100_000\u001B[39;49m\u001B[43m,\u001B[49m\n\u001B[1;32m     43\u001B[0m \u001B[43m    \u001B[49m\u001B[43mfees\u001B[49m\u001B[38;5;241;43m=\u001B[39;49m\u001B[38;5;241;43m0.001\u001B[39;49m\u001B[43m,\u001B[49m\n\u001B[1;32m     44\u001B[0m \u001B[43m    \u001B[49m\u001B[43mslippage\u001B[49m\u001B[38;5;241;43m=\u001B[39;49m\u001B[38;5;241;43m0.001\u001B[39;49m\u001B[43m,\u001B[49m\n\u001B[1;32m     45\u001B[0m \u001B[43m    \u001B[49m\u001B[43mpre_segment_func_nb\u001B[49m\u001B[38;5;241;43m=\u001B[39;49m\u001B[43mpre_segment_func_nb\u001B[49m\u001B[43m,\u001B[49m\n\u001B[1;32m     46\u001B[0m \u001B[43m    \u001B[49m\u001B[43mcall_seq\u001B[49m\u001B[38;5;241;43m=\u001B[39;49m\u001B[38;5;124;43m'\u001B[39;49m\u001B[38;5;124;43mauto\u001B[39;49m\u001B[38;5;124;43m'\u001B[39;49m\u001B[43m,\u001B[49m\n\u001B[1;32m     47\u001B[0m \u001B[43m    \u001B[49m\u001B[43msize_type\u001B[49m\u001B[38;5;241;43m=\u001B[39;49m\u001B[38;5;124;43m'\u001B[39;49m\u001B[38;5;124;43mamount\u001B[39;49m\u001B[38;5;124;43m'\u001B[39;49m\u001B[43m,\u001B[49m\n\u001B[1;32m     48\u001B[0m \u001B[43m    \u001B[49m\u001B[43mstop_loss\u001B[49m\u001B[38;5;241;43m=\u001B[39;49m\u001B[38;5;241;43m2\u001B[39;49m\u001B[43m \u001B[49m\u001B[38;5;241;43m*\u001B[39;49m\u001B[43m \u001B[49m\u001B[43matr14\u001B[49m\u001B[38;5;241;43m.\u001B[39;49m\u001B[43mvalues\u001B[49m\u001B[43m,\u001B[49m\n\u001B[1;32m     49\u001B[0m \u001B[43m    \u001B[49m\u001B[43mcash_sharing\u001B[49m\u001B[38;5;241;43m=\u001B[39;49m\u001B[38;5;28;43;01mTrue\u001B[39;49;00m\u001B[43m \u001B[49m\u001B[38;5;66;43;03m# 현금 공유\u001B[39;49;00m\n\u001B[1;32m     50\u001B[0m \u001B[43m)\u001B[49m\n\u001B[1;32m     52\u001B[0m \u001B[38;5;66;03m# 포트폴리오 분석 및 결과 출력\u001B[39;00m\n\u001B[1;32m     53\u001B[0m \u001B[38;5;28mprint\u001B[39m(portfolio\u001B[38;5;241m.\u001B[39mstats())\n",
      "File \u001B[0;32m/opt/anaconda3/lib/python3.9/site-packages/vectorbt/portfolio/base.py:3663\u001B[0m, in \u001B[0;36mPortfolio.from_order_func\u001B[0;34m(cls, close, order_func_nb, flexible, init_cash, cash_sharing, call_seq, segment_mask, call_pre_segment, call_post_segment, pre_sim_func_nb, pre_sim_args, post_sim_func_nb, post_sim_args, pre_group_func_nb, pre_group_args, post_group_func_nb, post_group_args, pre_row_func_nb, pre_row_args, post_row_func_nb, post_row_args, pre_segment_func_nb, pre_segment_args, post_segment_func_nb, post_segment_args, post_order_func_nb, post_order_args, ffill_val_price, update_value, fill_pos_record, row_wise, use_numba, max_orders, max_logs, seed, group_by, broadcast_named_args, broadcast_kwargs, template_mapping, wrapper_kwargs, freq, attach_call_seq, *order_args, **kwargs)\u001B[0m\n\u001B[1;32m   3661\u001B[0m     \u001B[38;5;28;01mif\u001B[39;00m \u001B[38;5;28misinstance\u001B[39m(call_seq, \u001B[38;5;28mint\u001B[39m):\n\u001B[1;32m   3662\u001B[0m         \u001B[38;5;28;01mif\u001B[39;00m call_seq \u001B[38;5;241m==\u001B[39m CallSeqType\u001B[38;5;241m.\u001B[39mAuto:\n\u001B[0;32m-> 3663\u001B[0m             \u001B[38;5;28;01mraise\u001B[39;00m \u001B[38;5;167;01mValueError\u001B[39;00m(\u001B[38;5;124m\"\u001B[39m\u001B[38;5;124mCallSeqType.Auto must be implemented manually. \u001B[39m\u001B[38;5;124m\"\u001B[39m\n\u001B[1;32m   3664\u001B[0m                              \u001B[38;5;124m\"\u001B[39m\u001B[38;5;124mUse sort_call_seq_nb in pre_segment_func_nb.\u001B[39m\u001B[38;5;124m\"\u001B[39m)\n\u001B[1;32m   3665\u001B[0m \u001B[38;5;28;01mif\u001B[39;00m segment_mask \u001B[38;5;129;01mis\u001B[39;00m \u001B[38;5;28;01mNone\u001B[39;00m:\n\u001B[1;32m   3666\u001B[0m     segment_mask \u001B[38;5;241m=\u001B[39m \u001B[38;5;28;01mTrue\u001B[39;00m\n",
      "\u001B[0;31mValueError\u001B[0m: CallSeqType.Auto must be implemented manually. Use sort_call_seq_nb in pre_segment_func_nb."
     ]
    }
   ],
   "source": [
    "# 사용자 정의 주문 함수 정의\n",
    "@njit\n",
    "def order_func_nb(c, direction, fees, atr14):\n",
    "    # 현재 가격\n",
    "    price = c.close[c.i, c.col]\n",
    "    # 현재 포지션 가치\n",
    "    position_value = c.exec_state['position'] * price\n",
    "    # 포지션 사이즈 계산 (현재 포지션 가치의 1%) / (2 * ATR20)\n",
    "    if position_value > 0:\n",
    "        pos_size = (position_value * 0.01) / (2 * atr14[c.i])\n",
    "    else:\n",
    "        pos_size = (c.exec_state['cash'] * 0.01) / (2 * atr14[c.i])\n",
    "\n",
    "    # 손절 지점 설정 (진입 시점에서 2 * ATR20)\n",
    "    stop_loss = price - 2 * atr14[c.i]\n",
    "\n",
    "    # 주문 생성\n",
    "    return vbt.order_nb(\n",
    "        price=price,\n",
    "        size=pos_size,\n",
    "        direction=direction[c.col],\n",
    "        fees=fees,\n",
    "        stop=stop_loss\n",
    "    )\n",
    "# 호출 순서 설정 함수 정의\n",
    "@njit\n",
    "def pre_segment_func_nb(c):\n",
    "    return vbt.sort_call_seq_nb(c, size=c.close.shape[0])\n",
    "\n",
    "# 초기 데이터 설정\n",
    "direction = np.array([1] * close.shape[1])  # long only\n",
    "\n",
    "#포트폴리오 생성\n",
    "portfolio = vbt.Portfolio.from_order_func(\n",
    "    close=close,\n",
    "    entries=entries,\n",
    "    exits=exits,\n",
    "    order_func_nb=order_func_nb,\n",
    "    size=np.array([1] * len(close)),\n",
    "    direction = direction,\n",
    "    order_args=(atr14.values),#, corr_matrix.values),\n",
    "    init_cash=100_000,\n",
    "    fees=0.001,\n",
    "    slippage=0.001,\n",
    "    pre_segment_func_nb=pre_segment_func_nb,\n",
    "    call_seq='auto',\n",
    "    size_type='amount',\n",
    "    stop_loss=2 * atr14.values,\n",
    "    cash_sharing=True # 현금 공유\n",
    ")\n",
    "\n",
    "# 포트폴리오 분석 및 결과 출력\n",
    "print(portfolio.stats())\n",
    "portfolio.plot().show()"
   ],
   "metadata": {
    "collapsed": false
   }
  },
  {
   "cell_type": "code",
   "execution_count": 17,
   "outputs": [
    {
     "data": {
      "text/plain": "   Order Id Column  Timestamp  Size  Price  Fees  Side\n0         0      a          0   1.0    1.0  0.01   Buy\n1         1      a          1   1.0    2.0  0.02  Sell\n2         2      a          2   1.0    3.0  0.03   Buy\n3         3      a          3   1.0    4.0  0.04  Sell\n4         4      b          0   1.0    4.0  0.04  Sell\n5         5      b          1   1.0    3.0  0.03   Buy\n6         6      b          2   1.0    2.0  0.02  Sell\n7         7      b          3   1.0    1.0  0.01   Buy",
      "text/html": "<div>\n<style scoped>\n    .dataframe tbody tr th:only-of-type {\n        vertical-align: middle;\n    }\n\n    .dataframe tbody tr th {\n        vertical-align: top;\n    }\n\n    .dataframe thead th {\n        text-align: right;\n    }\n</style>\n<table border=\"1\" class=\"dataframe\">\n  <thead>\n    <tr style=\"text-align: right;\">\n      <th></th>\n      <th>Order Id</th>\n      <th>Column</th>\n      <th>Timestamp</th>\n      <th>Size</th>\n      <th>Price</th>\n      <th>Fees</th>\n      <th>Side</th>\n    </tr>\n  </thead>\n  <tbody>\n    <tr>\n      <th>0</th>\n      <td>0</td>\n      <td>a</td>\n      <td>0</td>\n      <td>1.0</td>\n      <td>1.0</td>\n      <td>0.01</td>\n      <td>Buy</td>\n    </tr>\n    <tr>\n      <th>1</th>\n      <td>1</td>\n      <td>a</td>\n      <td>1</td>\n      <td>1.0</td>\n      <td>2.0</td>\n      <td>0.02</td>\n      <td>Sell</td>\n    </tr>\n    <tr>\n      <th>2</th>\n      <td>2</td>\n      <td>a</td>\n      <td>2</td>\n      <td>1.0</td>\n      <td>3.0</td>\n      <td>0.03</td>\n      <td>Buy</td>\n    </tr>\n    <tr>\n      <th>3</th>\n      <td>3</td>\n      <td>a</td>\n      <td>3</td>\n      <td>1.0</td>\n      <td>4.0</td>\n      <td>0.04</td>\n      <td>Sell</td>\n    </tr>\n    <tr>\n      <th>4</th>\n      <td>4</td>\n      <td>b</td>\n      <td>0</td>\n      <td>1.0</td>\n      <td>4.0</td>\n      <td>0.04</td>\n      <td>Sell</td>\n    </tr>\n    <tr>\n      <th>5</th>\n      <td>5</td>\n      <td>b</td>\n      <td>1</td>\n      <td>1.0</td>\n      <td>3.0</td>\n      <td>0.03</td>\n      <td>Buy</td>\n    </tr>\n    <tr>\n      <th>6</th>\n      <td>6</td>\n      <td>b</td>\n      <td>2</td>\n      <td>1.0</td>\n      <td>2.0</td>\n      <td>0.02</td>\n      <td>Sell</td>\n    </tr>\n    <tr>\n      <th>7</th>\n      <td>7</td>\n      <td>b</td>\n      <td>3</td>\n      <td>1.0</td>\n      <td>1.0</td>\n      <td>0.01</td>\n      <td>Buy</td>\n    </tr>\n  </tbody>\n</table>\n</div>"
     },
     "execution_count": 17,
     "metadata": {},
     "output_type": "execute_result"
    }
   ],
   "source": [
    "import numpy as np\n",
    "import pandas as pd\n",
    "from datetime import datetime\n",
    "import talib\n",
    "from numba import njit\n",
    "\n",
    "import vectorbt as vbt\n",
    "from vectorbt.utils.colors import adjust_opacity\n",
    "from vectorbt.utils.enum_ import map_enum_fields\n",
    "from vectorbt.base.reshape_fns import broadcast, flex_select_auto_nb, to_2d_array\n",
    "from vectorbt.portfolio.enums import SizeType, Direction, NoOrder, OrderStatus, OrderSide\n",
    "from vectorbt.portfolio import nb\n",
    "\n",
    "size = pd.Series([1, -1, 1, -1])  # per row\n",
    "price = pd.DataFrame({'a': [1, 2, 3, 4], 'b': [4, 3, 2, 1]})  # per element\n",
    "direction = ['longonly', 'shortonly']  # per column\n",
    "fees = 0.01  # per frame\n",
    "\n",
    "\n",
    "@njit\n",
    "def order_func_nb(c, size, direction, fees):\n",
    "    return nb.order_nb(\n",
    "        price=c.close[c.i, c.col],\n",
    "        size=size[c.i],\n",
    "        direction=direction[c.col],\n",
    "        fees=fees\n",
    ")\n",
    "\n",
    "direction_num = map_enum_fields(direction, Direction)\n",
    "pf = vbt.Portfolio.from_order_func(\n",
    "    price,\n",
    "    order_func_nb,\n",
    "    np.asarray(size), np.asarray(direction_num), fees\n",
    ")\n",
    "pf.orders.records_readable\n"
   ],
   "metadata": {
    "collapsed": false
   }
  },
  {
   "cell_type": "code",
   "execution_count": 18,
   "outputs": [
    {
     "ename": "error",
     "evalue": "bad escape \\d at position 7",
     "output_type": "error",
     "traceback": [
      "\u001B[0;31m---------------------------------------------------------------------------\u001B[0m",
      "\u001B[0;31merror\u001B[0m                                     Traceback (most recent call last)",
      "Input \u001B[0;32mIn [18]\u001B[0m, in \u001B[0;36m<cell line: 6>\u001B[0;34m()\u001B[0m\n\u001B[1;32m      4\u001B[0m end \u001B[38;5;241m=\u001B[39m \u001B[38;5;124m'\u001B[39m\u001B[38;5;124m2020-09-01 UTC\u001B[39m\u001B[38;5;124m'\u001B[39m\n\u001B[1;32m      5\u001B[0m \u001B[38;5;66;03m# OHLCV by column\u001B[39;00m\n\u001B[0;32m----> 6\u001B[0m ohlcv \u001B[38;5;241m=\u001B[39m \u001B[43mvbt\u001B[49m\u001B[38;5;241;43m.\u001B[39;49m\u001B[43mYFData\u001B[49m\u001B[38;5;241;43m.\u001B[39;49m\u001B[43mdownload\u001B[49m\u001B[43m(\u001B[49m\u001B[43msymbols\u001B[49m\u001B[43m,\u001B[49m\u001B[43m \u001B[49m\u001B[43mstart\u001B[49m\u001B[38;5;241;43m=\u001B[39;49m\u001B[43mstart\u001B[49m\u001B[43m,\u001B[49m\u001B[43m \u001B[49m\u001B[43mend\u001B[49m\u001B[38;5;241;43m=\u001B[39;49m\u001B[43mend\u001B[49m\u001B[43m)\u001B[49m\u001B[38;5;241m.\u001B[39mconcat()\n\u001B[1;32m      8\u001B[0m pf_baseline \u001B[38;5;241m=\u001B[39m vbt\u001B[38;5;241m.\u001B[39mPortfolio\u001B[38;5;241m.\u001B[39mfrom_orders(\n\u001B[1;32m      9\u001B[0m     ohlcv[\u001B[38;5;124m'\u001B[39m\u001B[38;5;124mClose\u001B[39m\u001B[38;5;124m'\u001B[39m], size, price\u001B[38;5;241m=\u001B[39mohlcv[\u001B[38;5;124m'\u001B[39m\u001B[38;5;124mOpen\u001B[39m\u001B[38;5;124m'\u001B[39m],\n\u001B[1;32m     10\u001B[0m     init_cash\u001B[38;5;241m=\u001B[39m\u001B[38;5;124m'\u001B[39m\u001B[38;5;124mautoalign\u001B[39m\u001B[38;5;124m'\u001B[39m, fees\u001B[38;5;241m=\u001B[39m\u001B[38;5;241m0.001\u001B[39m, slippage\u001B[38;5;241m=\u001B[39m\u001B[38;5;241m0.001\u001B[39m, freq\u001B[38;5;241m=\u001B[39m\u001B[38;5;124m'\u001B[39m\u001B[38;5;124md\u001B[39m\u001B[38;5;124m'\u001B[39m)\n\u001B[1;32m     11\u001B[0m pf_baseline\u001B[38;5;241m.\u001B[39msharpe_ratio()\n",
      "File \u001B[0;32m/opt/anaconda3/lib/python3.9/site-packages/vectorbt/data/base.py:584\u001B[0m, in \u001B[0;36mData.download\u001B[0;34m(cls, symbols, tz_localize, tz_convert, missing_index, missing_columns, wrapper_kwargs, **kwargs)\u001B[0m\n\u001B[1;32m    581\u001B[0m     _kwargs \u001B[38;5;241m=\u001B[39m \u001B[38;5;28mcls\u001B[39m\u001B[38;5;241m.\u001B[39mselect_symbol_kwargs(s, kwargs)\n\u001B[1;32m    583\u001B[0m     \u001B[38;5;66;03m# Download data for this symbol\u001B[39;00m\n\u001B[0;32m--> 584\u001B[0m     data[s] \u001B[38;5;241m=\u001B[39m \u001B[38;5;28;43mcls\u001B[39;49m\u001B[38;5;241;43m.\u001B[39;49m\u001B[43mdownload_symbol\u001B[49m\u001B[43m(\u001B[49m\u001B[43ms\u001B[49m\u001B[43m,\u001B[49m\u001B[43m \u001B[49m\u001B[38;5;241;43m*\u001B[39;49m\u001B[38;5;241;43m*\u001B[39;49m\u001B[43m_kwargs\u001B[49m\u001B[43m)\u001B[49m\n\u001B[1;32m    586\u001B[0m \u001B[38;5;66;03m# Create new instance from data\u001B[39;00m\n\u001B[1;32m    587\u001B[0m \u001B[38;5;28;01mreturn\u001B[39;00m \u001B[38;5;28mcls\u001B[39m\u001B[38;5;241m.\u001B[39mfrom_data(\n\u001B[1;32m    588\u001B[0m     data,\n\u001B[1;32m    589\u001B[0m     tz_localize\u001B[38;5;241m=\u001B[39mtz_localize,\n\u001B[0;32m   (...)\u001B[0m\n\u001B[1;32m    594\u001B[0m     download_kwargs\u001B[38;5;241m=\u001B[39mkwargs\n\u001B[1;32m    595\u001B[0m )\n",
      "File \u001B[0;32m/opt/anaconda3/lib/python3.9/site-packages/vectorbt/data/custom.py:270\u001B[0m, in \u001B[0;36mYFData.download_symbol\u001B[0;34m(cls, symbol, period, start, end, **kwargs)\u001B[0m\n\u001B[1;32m    268\u001B[0m \u001B[38;5;66;03m# yfinance still uses mktime, which assumes that the passed date is in local time\u001B[39;00m\n\u001B[1;32m    269\u001B[0m \u001B[38;5;28;01mif\u001B[39;00m start \u001B[38;5;129;01mis\u001B[39;00m \u001B[38;5;129;01mnot\u001B[39;00m \u001B[38;5;28;01mNone\u001B[39;00m:\n\u001B[0;32m--> 270\u001B[0m     start \u001B[38;5;241m=\u001B[39m \u001B[43mto_tzaware_datetime\u001B[49m\u001B[43m(\u001B[49m\u001B[43mstart\u001B[49m\u001B[43m,\u001B[49m\u001B[43m \u001B[49m\u001B[43mtz\u001B[49m\u001B[38;5;241;43m=\u001B[39;49m\u001B[43mget_local_tz\u001B[49m\u001B[43m(\u001B[49m\u001B[43m)\u001B[49m\u001B[43m)\u001B[49m\n\u001B[1;32m    271\u001B[0m \u001B[38;5;28;01mif\u001B[39;00m end \u001B[38;5;129;01mis\u001B[39;00m \u001B[38;5;129;01mnot\u001B[39;00m \u001B[38;5;28;01mNone\u001B[39;00m:\n\u001B[1;32m    272\u001B[0m     end \u001B[38;5;241m=\u001B[39m to_tzaware_datetime(end, tz\u001B[38;5;241m=\u001B[39mget_local_tz())\n",
      "File \u001B[0;32m/opt/anaconda3/lib/python3.9/site-packages/vectorbt/utils/datetime_.py:134\u001B[0m, in \u001B[0;36mto_tzaware_datetime\u001B[0;34m(dt_like, naive_tz, tz, **kwargs)\u001B[0m\n\u001B[1;32m    132\u001B[0m         dt \u001B[38;5;241m=\u001B[39m datetime\u001B[38;5;241m.\u001B[39mfromtimestamp(dt_like, timezone\u001B[38;5;241m.\u001B[39mutc)\n\u001B[1;32m    133\u001B[0m \u001B[38;5;28;01melif\u001B[39;00m \u001B[38;5;28misinstance\u001B[39m(dt_like, \u001B[38;5;28mstr\u001B[39m):\n\u001B[0;32m--> 134\u001B[0m     dt \u001B[38;5;241m=\u001B[39m \u001B[43mdateparser\u001B[49m\u001B[38;5;241;43m.\u001B[39;49m\u001B[43mparse\u001B[49m\u001B[43m(\u001B[49m\u001B[43mdt_like\u001B[49m\u001B[43m,\u001B[49m\u001B[43m \u001B[49m\u001B[38;5;241;43m*\u001B[39;49m\u001B[38;5;241;43m*\u001B[39;49m\u001B[43mkwargs\u001B[49m\u001B[43m)\u001B[49m\n\u001B[1;32m    135\u001B[0m \u001B[38;5;28;01melif\u001B[39;00m \u001B[38;5;28misinstance\u001B[39m(dt_like, pd\u001B[38;5;241m.\u001B[39mTimestamp):\n\u001B[1;32m    136\u001B[0m     dt \u001B[38;5;241m=\u001B[39m dt_like\u001B[38;5;241m.\u001B[39mto_pydatetime()\n",
      "File \u001B[0;32m/opt/anaconda3/lib/python3.9/site-packages/dateparser/conf.py:89\u001B[0m, in \u001B[0;36mapply_settings.<locals>.wrapper\u001B[0;34m(*args, **kwargs)\u001B[0m\n\u001B[1;32m     86\u001B[0m \u001B[38;5;28;01mif\u001B[39;00m \u001B[38;5;129;01mnot\u001B[39;00m \u001B[38;5;28misinstance\u001B[39m(kwargs[\u001B[38;5;124m'\u001B[39m\u001B[38;5;124msettings\u001B[39m\u001B[38;5;124m'\u001B[39m], Settings):\n\u001B[1;32m     87\u001B[0m     \u001B[38;5;28;01mraise\u001B[39;00m \u001B[38;5;167;01mTypeError\u001B[39;00m(\u001B[38;5;124m\"\u001B[39m\u001B[38;5;124msettings can only be either dict or instance of Settings class\u001B[39m\u001B[38;5;124m\"\u001B[39m)\n\u001B[0;32m---> 89\u001B[0m \u001B[38;5;28;01mreturn\u001B[39;00m \u001B[43mf\u001B[49m\u001B[43m(\u001B[49m\u001B[38;5;241;43m*\u001B[39;49m\u001B[43margs\u001B[49m\u001B[43m,\u001B[49m\u001B[43m \u001B[49m\u001B[38;5;241;43m*\u001B[39;49m\u001B[38;5;241;43m*\u001B[39;49m\u001B[43mkwargs\u001B[49m\u001B[43m)\u001B[49m\n",
      "File \u001B[0;32m/opt/anaconda3/lib/python3.9/site-packages/dateparser/__init__.py:54\u001B[0m, in \u001B[0;36mparse\u001B[0;34m(date_string, date_formats, languages, locales, region, settings)\u001B[0m\n\u001B[1;32m     50\u001B[0m \u001B[38;5;28;01mif\u001B[39;00m languages \u001B[38;5;129;01mor\u001B[39;00m locales \u001B[38;5;129;01mor\u001B[39;00m region \u001B[38;5;129;01mor\u001B[39;00m \u001B[38;5;129;01mnot\u001B[39;00m settings\u001B[38;5;241m.\u001B[39m_default:\n\u001B[1;32m     51\u001B[0m     parser \u001B[38;5;241m=\u001B[39m DateDataParser(languages\u001B[38;5;241m=\u001B[39mlanguages, locales\u001B[38;5;241m=\u001B[39mlocales,\n\u001B[1;32m     52\u001B[0m                             region\u001B[38;5;241m=\u001B[39mregion, settings\u001B[38;5;241m=\u001B[39msettings)\n\u001B[0;32m---> 54\u001B[0m data \u001B[38;5;241m=\u001B[39m \u001B[43mparser\u001B[49m\u001B[38;5;241;43m.\u001B[39;49m\u001B[43mget_date_data\u001B[49m\u001B[43m(\u001B[49m\u001B[43mdate_string\u001B[49m\u001B[43m,\u001B[49m\u001B[43m \u001B[49m\u001B[43mdate_formats\u001B[49m\u001B[43m)\u001B[49m\n\u001B[1;32m     56\u001B[0m \u001B[38;5;28;01mif\u001B[39;00m data:\n\u001B[1;32m     57\u001B[0m     \u001B[38;5;28;01mreturn\u001B[39;00m data[\u001B[38;5;124m'\u001B[39m\u001B[38;5;124mdate_obj\u001B[39m\u001B[38;5;124m'\u001B[39m]\n",
      "File \u001B[0;32m/opt/anaconda3/lib/python3.9/site-packages/dateparser/date.py:421\u001B[0m, in \u001B[0;36mDateDataParser.get_date_data\u001B[0;34m(self, date_string, date_formats)\u001B[0m\n\u001B[1;32m    418\u001B[0m date_string \u001B[38;5;241m=\u001B[39m sanitize_date(date_string)\n\u001B[1;32m    420\u001B[0m \u001B[38;5;28;01mfor\u001B[39;00m locale \u001B[38;5;129;01min\u001B[39;00m \u001B[38;5;28mself\u001B[39m\u001B[38;5;241m.\u001B[39m_get_applicable_locales(date_string):\n\u001B[0;32m--> 421\u001B[0m     parsed_date \u001B[38;5;241m=\u001B[39m \u001B[43m_DateLocaleParser\u001B[49m\u001B[38;5;241;43m.\u001B[39;49m\u001B[43mparse\u001B[49m\u001B[43m(\u001B[49m\n\u001B[1;32m    422\u001B[0m \u001B[43m        \u001B[49m\u001B[43mlocale\u001B[49m\u001B[43m,\u001B[49m\u001B[43m \u001B[49m\u001B[43mdate_string\u001B[49m\u001B[43m,\u001B[49m\u001B[43m \u001B[49m\u001B[43mdate_formats\u001B[49m\u001B[43m,\u001B[49m\u001B[43m \u001B[49m\u001B[43msettings\u001B[49m\u001B[38;5;241;43m=\u001B[39;49m\u001B[38;5;28;43mself\u001B[39;49m\u001B[38;5;241;43m.\u001B[39;49m\u001B[43m_settings\u001B[49m\u001B[43m)\u001B[49m\n\u001B[1;32m    423\u001B[0m     \u001B[38;5;28;01mif\u001B[39;00m parsed_date:\n\u001B[1;32m    424\u001B[0m         parsed_date[\u001B[38;5;124m'\u001B[39m\u001B[38;5;124mlocale\u001B[39m\u001B[38;5;124m'\u001B[39m] \u001B[38;5;241m=\u001B[39m locale\u001B[38;5;241m.\u001B[39mshortname\n",
      "File \u001B[0;32m/opt/anaconda3/lib/python3.9/site-packages/dateparser/date.py:178\u001B[0m, in \u001B[0;36m_DateLocaleParser.parse\u001B[0;34m(cls, locale, date_string, date_formats, settings)\u001B[0m\n\u001B[1;32m    175\u001B[0m \u001B[38;5;129m@classmethod\u001B[39m\n\u001B[1;32m    176\u001B[0m \u001B[38;5;28;01mdef\u001B[39;00m \u001B[38;5;21mparse\u001B[39m(\u001B[38;5;28mcls\u001B[39m, locale, date_string, date_formats\u001B[38;5;241m=\u001B[39m\u001B[38;5;28;01mNone\u001B[39;00m, settings\u001B[38;5;241m=\u001B[39m\u001B[38;5;28;01mNone\u001B[39;00m):\n\u001B[1;32m    177\u001B[0m     instance \u001B[38;5;241m=\u001B[39m \u001B[38;5;28mcls\u001B[39m(locale, date_string, date_formats, settings)\n\u001B[0;32m--> 178\u001B[0m     \u001B[38;5;28;01mreturn\u001B[39;00m \u001B[43minstance\u001B[49m\u001B[38;5;241;43m.\u001B[39;49m\u001B[43m_parse\u001B[49m\u001B[43m(\u001B[49m\u001B[43m)\u001B[49m\n",
      "File \u001B[0;32m/opt/anaconda3/lib/python3.9/site-packages/dateparser/date.py:182\u001B[0m, in \u001B[0;36m_DateLocaleParser._parse\u001B[0;34m(self)\u001B[0m\n\u001B[1;32m    180\u001B[0m \u001B[38;5;28;01mdef\u001B[39;00m \u001B[38;5;21m_parse\u001B[39m(\u001B[38;5;28mself\u001B[39m):\n\u001B[1;32m    181\u001B[0m     \u001B[38;5;28;01mfor\u001B[39;00m parser_name \u001B[38;5;129;01min\u001B[39;00m \u001B[38;5;28mself\u001B[39m\u001B[38;5;241m.\u001B[39m_settings\u001B[38;5;241m.\u001B[39mPARSERS:\n\u001B[0;32m--> 182\u001B[0m         date_data \u001B[38;5;241m=\u001B[39m \u001B[38;5;28;43mself\u001B[39;49m\u001B[38;5;241;43m.\u001B[39;49m\u001B[43m_parsers\u001B[49m\u001B[43m[\u001B[49m\u001B[43mparser_name\u001B[49m\u001B[43m]\u001B[49m\u001B[43m(\u001B[49m\u001B[43m)\u001B[49m\n\u001B[1;32m    183\u001B[0m         \u001B[38;5;28;01mif\u001B[39;00m \u001B[38;5;28mself\u001B[39m\u001B[38;5;241m.\u001B[39m_is_valid_date_data(date_data):\n\u001B[1;32m    184\u001B[0m             \u001B[38;5;28;01mreturn\u001B[39;00m date_data\n",
      "File \u001B[0;32m/opt/anaconda3/lib/python3.9/site-packages/dateparser/date.py:196\u001B[0m, in \u001B[0;36m_DateLocaleParser._try_freshness_parser\u001B[0;34m(self)\u001B[0m\n\u001B[1;32m    194\u001B[0m \u001B[38;5;28;01mdef\u001B[39;00m \u001B[38;5;21m_try_freshness_parser\u001B[39m(\u001B[38;5;28mself\u001B[39m):\n\u001B[1;32m    195\u001B[0m     \u001B[38;5;28;01mtry\u001B[39;00m:\n\u001B[0;32m--> 196\u001B[0m         \u001B[38;5;28;01mreturn\u001B[39;00m freshness_date_parser\u001B[38;5;241m.\u001B[39mget_date_data(\u001B[38;5;28;43mself\u001B[39;49m\u001B[38;5;241;43m.\u001B[39;49m\u001B[43m_get_translated_date\u001B[49m\u001B[43m(\u001B[49m\u001B[43m)\u001B[49m, \u001B[38;5;28mself\u001B[39m\u001B[38;5;241m.\u001B[39m_settings)\n\u001B[1;32m    197\u001B[0m     \u001B[38;5;28;01mexcept\u001B[39;00m (\u001B[38;5;167;01mOverflowError\u001B[39;00m, \u001B[38;5;167;01mValueError\u001B[39;00m):\n\u001B[1;32m    198\u001B[0m         \u001B[38;5;28;01mreturn\u001B[39;00m \u001B[38;5;28;01mNone\u001B[39;00m\n",
      "File \u001B[0;32m/opt/anaconda3/lib/python3.9/site-packages/dateparser/date.py:234\u001B[0m, in \u001B[0;36m_DateLocaleParser._get_translated_date\u001B[0;34m(self)\u001B[0m\n\u001B[1;32m    232\u001B[0m \u001B[38;5;28;01mdef\u001B[39;00m \u001B[38;5;21m_get_translated_date\u001B[39m(\u001B[38;5;28mself\u001B[39m):\n\u001B[1;32m    233\u001B[0m     \u001B[38;5;28;01mif\u001B[39;00m \u001B[38;5;28mself\u001B[39m\u001B[38;5;241m.\u001B[39m_translated_date \u001B[38;5;129;01mis\u001B[39;00m \u001B[38;5;28;01mNone\u001B[39;00m:\n\u001B[0;32m--> 234\u001B[0m         \u001B[38;5;28mself\u001B[39m\u001B[38;5;241m.\u001B[39m_translated_date \u001B[38;5;241m=\u001B[39m \u001B[38;5;28;43mself\u001B[39;49m\u001B[38;5;241;43m.\u001B[39;49m\u001B[43mlocale\u001B[49m\u001B[38;5;241;43m.\u001B[39;49m\u001B[43mtranslate\u001B[49m\u001B[43m(\u001B[49m\n\u001B[1;32m    235\u001B[0m \u001B[43m            \u001B[49m\u001B[38;5;28;43mself\u001B[39;49m\u001B[38;5;241;43m.\u001B[39;49m\u001B[43mdate_string\u001B[49m\u001B[43m,\u001B[49m\u001B[43m \u001B[49m\u001B[43mkeep_formatting\u001B[49m\u001B[38;5;241;43m=\u001B[39;49m\u001B[38;5;28;43;01mFalse\u001B[39;49;00m\u001B[43m,\u001B[49m\u001B[43m \u001B[49m\u001B[43msettings\u001B[49m\u001B[38;5;241;43m=\u001B[39;49m\u001B[38;5;28;43mself\u001B[39;49m\u001B[38;5;241;43m.\u001B[39;49m\u001B[43m_settings\u001B[49m\u001B[43m)\u001B[49m\n\u001B[1;32m    236\u001B[0m     \u001B[38;5;28;01mreturn\u001B[39;00m \u001B[38;5;28mself\u001B[39m\u001B[38;5;241m.\u001B[39m_translated_date\n",
      "File \u001B[0;32m/opt/anaconda3/lib/python3.9/site-packages/dateparser/languages/locale.py:131\u001B[0m, in \u001B[0;36mLocale.translate\u001B[0;34m(self, date_string, keep_formatting, settings)\u001B[0m\n\u001B[1;32m    128\u001B[0m dictionary \u001B[38;5;241m=\u001B[39m \u001B[38;5;28mself\u001B[39m\u001B[38;5;241m.\u001B[39m_get_dictionary(settings)\n\u001B[1;32m    129\u001B[0m date_string_tokens \u001B[38;5;241m=\u001B[39m dictionary\u001B[38;5;241m.\u001B[39msplit(date_string, keep_formatting)\n\u001B[0;32m--> 131\u001B[0m relative_translations \u001B[38;5;241m=\u001B[39m \u001B[38;5;28;43mself\u001B[39;49m\u001B[38;5;241;43m.\u001B[39;49m\u001B[43m_get_relative_translations\u001B[49m\u001B[43m(\u001B[49m\u001B[43msettings\u001B[49m\u001B[38;5;241;43m=\u001B[39;49m\u001B[43msettings\u001B[49m\u001B[43m)\u001B[49m\n\u001B[1;32m    133\u001B[0m \u001B[38;5;28;01mfor\u001B[39;00m i, word \u001B[38;5;129;01min\u001B[39;00m \u001B[38;5;28menumerate\u001B[39m(date_string_tokens):\n\u001B[1;32m    134\u001B[0m     word \u001B[38;5;241m=\u001B[39m word\u001B[38;5;241m.\u001B[39mlower()\n",
      "File \u001B[0;32m/opt/anaconda3/lib/python3.9/site-packages/dateparser/languages/locale.py:158\u001B[0m, in \u001B[0;36mLocale._get_relative_translations\u001B[0;34m(self, settings)\u001B[0m\n\u001B[1;32m    155\u001B[0m \u001B[38;5;28;01mif\u001B[39;00m settings\u001B[38;5;241m.\u001B[39mNORMALIZE:\n\u001B[1;32m    156\u001B[0m     \u001B[38;5;28;01mif\u001B[39;00m \u001B[38;5;28mself\u001B[39m\u001B[38;5;241m.\u001B[39m_normalized_relative_translations \u001B[38;5;129;01mis\u001B[39;00m \u001B[38;5;28;01mNone\u001B[39;00m:\n\u001B[1;32m    157\u001B[0m         \u001B[38;5;28mself\u001B[39m\u001B[38;5;241m.\u001B[39m_normalized_relative_translations \u001B[38;5;241m=\u001B[39m (\n\u001B[0;32m--> 158\u001B[0m             \u001B[38;5;28;43mself\u001B[39;49m\u001B[38;5;241;43m.\u001B[39;49m\u001B[43m_generate_relative_translations\u001B[49m\u001B[43m(\u001B[49m\u001B[43mnormalize\u001B[49m\u001B[38;5;241;43m=\u001B[39;49m\u001B[38;5;28;43;01mTrue\u001B[39;49;00m\u001B[43m)\u001B[49m)\n\u001B[1;32m    159\u001B[0m     \u001B[38;5;28;01mreturn\u001B[39;00m \u001B[38;5;28mself\u001B[39m\u001B[38;5;241m.\u001B[39m_normalized_relative_translations\n\u001B[1;32m    160\u001B[0m \u001B[38;5;28;01melse\u001B[39;00m:\n",
      "File \u001B[0;32m/opt/anaconda3/lib/python3.9/site-packages/dateparser/languages/locale.py:172\u001B[0m, in \u001B[0;36mLocale._generate_relative_translations\u001B[0;34m(self, normalize)\u001B[0m\n\u001B[1;32m    170\u001B[0m     value \u001B[38;5;241m=\u001B[39m \u001B[38;5;28mlist\u001B[39m(\u001B[38;5;28mmap\u001B[39m(normalize_unicode, value))\n\u001B[1;32m    171\u001B[0m pattern \u001B[38;5;241m=\u001B[39m \u001B[38;5;124m'\u001B[39m\u001B[38;5;124m|\u001B[39m\u001B[38;5;124m'\u001B[39m\u001B[38;5;241m.\u001B[39mjoin(\u001B[38;5;28msorted\u001B[39m(value, key\u001B[38;5;241m=\u001B[39m\u001B[38;5;28mlen\u001B[39m, reverse\u001B[38;5;241m=\u001B[39m\u001B[38;5;28;01mTrue\u001B[39;00m))\n\u001B[0;32m--> 172\u001B[0m pattern \u001B[38;5;241m=\u001B[39m \u001B[43mDIGIT_GROUP_PATTERN\u001B[49m\u001B[38;5;241;43m.\u001B[39;49m\u001B[43msub\u001B[49m\u001B[43m(\u001B[49m\u001B[38;5;124;43mr\u001B[39;49m\u001B[38;5;124;43m'\u001B[39;49m\u001B[38;5;124;43m?P<n>\u001B[39;49m\u001B[38;5;124;43m\\\u001B[39;49m\u001B[38;5;124;43md+\u001B[39;49m\u001B[38;5;124;43m'\u001B[39;49m\u001B[43m,\u001B[49m\u001B[43m \u001B[49m\u001B[43mpattern\u001B[49m\u001B[43m)\u001B[49m\n\u001B[1;32m    173\u001B[0m pattern \u001B[38;5;241m=\u001B[39m re\u001B[38;5;241m.\u001B[39mcompile(\u001B[38;5;124mr\u001B[39m\u001B[38;5;124m'\u001B[39m\u001B[38;5;124m^(?:\u001B[39m\u001B[38;5;132;01m{}\u001B[39;00m\u001B[38;5;124m)$\u001B[39m\u001B[38;5;124m'\u001B[39m\u001B[38;5;241m.\u001B[39mformat(pattern), re\u001B[38;5;241m.\u001B[39mUNICODE \u001B[38;5;241m|\u001B[39m re\u001B[38;5;241m.\u001B[39mIGNORECASE)\n\u001B[1;32m    174\u001B[0m relative_dictionary[pattern] \u001B[38;5;241m=\u001B[39m key\n",
      "File \u001B[0;32m/opt/anaconda3/lib/python3.9/site-packages/regex/regex.py:702\u001B[0m, in \u001B[0;36m_compile_replacement_helper\u001B[0;34m(pattern, template)\u001B[0m\n\u001B[1;32m    697\u001B[0m     \u001B[38;5;28;01mbreak\u001B[39;00m\n\u001B[1;32m    698\u001B[0m \u001B[38;5;28;01mif\u001B[39;00m ch \u001B[38;5;241m==\u001B[39m \u001B[38;5;124m\"\u001B[39m\u001B[38;5;130;01m\\\\\u001B[39;00m\u001B[38;5;124m\"\u001B[39m:\n\u001B[1;32m    699\u001B[0m     \u001B[38;5;66;03m# '_compile_replacement' will return either an int group reference\u001B[39;00m\n\u001B[1;32m    700\u001B[0m     \u001B[38;5;66;03m# or a string literal. It returns items (plural) in order to handle\u001B[39;00m\n\u001B[1;32m    701\u001B[0m     \u001B[38;5;66;03m# a 2-character literal (an invalid escape sequence).\u001B[39;00m\n\u001B[0;32m--> 702\u001B[0m     is_group, items \u001B[38;5;241m=\u001B[39m \u001B[43m_compile_replacement\u001B[49m\u001B[43m(\u001B[49m\u001B[43msource\u001B[49m\u001B[43m,\u001B[49m\u001B[43m \u001B[49m\u001B[43mpattern\u001B[49m\u001B[43m,\u001B[49m\u001B[43m \u001B[49m\u001B[43mis_unicode\u001B[49m\u001B[43m)\u001B[49m\n\u001B[1;32m    703\u001B[0m     \u001B[38;5;28;01mif\u001B[39;00m is_group:\n\u001B[1;32m    704\u001B[0m         \u001B[38;5;66;03m# It's a group, so first flush the literal.\u001B[39;00m\n\u001B[1;32m    705\u001B[0m         \u001B[38;5;28;01mif\u001B[39;00m literal:\n",
      "File \u001B[0;32m/opt/anaconda3/lib/python3.9/site-packages/regex/_regex_core.py:1737\u001B[0m, in \u001B[0;36m_compile_replacement\u001B[0;34m(source, pattern, is_unicode)\u001B[0m\n\u001B[1;32m   1734\u001B[0m         \u001B[38;5;28;01mif\u001B[39;00m value \u001B[38;5;129;01mis\u001B[39;00m \u001B[38;5;129;01mnot\u001B[39;00m \u001B[38;5;28;01mNone\u001B[39;00m:\n\u001B[1;32m   1735\u001B[0m             \u001B[38;5;28;01mreturn\u001B[39;00m \u001B[38;5;28;01mFalse\u001B[39;00m, [value]\n\u001B[0;32m-> 1737\u001B[0m     \u001B[38;5;28;01mraise\u001B[39;00m error(\u001B[38;5;124m\"\u001B[39m\u001B[38;5;124mbad escape \u001B[39m\u001B[38;5;130;01m\\\\\u001B[39;00m\u001B[38;5;132;01m%s\u001B[39;00m\u001B[38;5;124m\"\u001B[39m \u001B[38;5;241m%\u001B[39m ch, source\u001B[38;5;241m.\u001B[39mstring, source\u001B[38;5;241m.\u001B[39mpos)\n\u001B[1;32m   1739\u001B[0m \u001B[38;5;28;01mif\u001B[39;00m \u001B[38;5;28misinstance\u001B[39m(source\u001B[38;5;241m.\u001B[39msep, \u001B[38;5;28mbytes\u001B[39m):\n\u001B[1;32m   1740\u001B[0m     octal_mask \u001B[38;5;241m=\u001B[39m \u001B[38;5;241m0xFF\u001B[39m\n",
      "\u001B[0;31merror\u001B[0m: bad escape \\d at position 7"
     ]
    }
   ],
   "source": [
    "# Fetch price history\n",
    "symbols = ['BTC-USD', 'ETH-USD', 'XRP-USD', 'BNB-USD', 'BCH-USD', 'LTC-USD']\n",
    "start = '2020-01-01 UTC'  # crypto is UTC\n",
    "end = '2020-09-01 UTC'\n",
    "# OHLCV by column\n",
    "ohlcv = vbt.YFData.download(symbols, start=start, end=end).concat()\n",
    "\n",
    "pf_baseline = vbt.Portfolio.from_orders(\n",
    "    ohlcv['Close'], size, price=ohlcv['Open'],\n",
    "    init_cash='autoalign', fees=0.001, slippage=0.001, freq='d')\n",
    "pf_baseline.sharpe_ratio()\n",
    "\n",
    "\n",
    "@njit\n",
    "def order_func_nb(c, size, price, fees, slippage):\n",
    "    return nb.order_nb(\n",
    "        size=nb.get_elem_nb(c, size),\n",
    "        price=nb.get_elem_nb(c, price),\n",
    "        fees=nb.get_elem_nb(c, fees),\n",
    "        slippage=nb.get_elem_nb(c, slippage),\n",
    "    )\n",
    "\n",
    "@njit\n",
    "def post_segment_func_nb(c, returns_out):\n",
    "    returns_out[c.i, c.group] = c.last_return[c.group]\n",
    "\n",
    "returns_out = np.empty_like(ohlcv['Close'], dtype=np.float_)\n",
    "pf = vbt.Portfolio.from_order_func(\n",
    "    ohlcv['Close'],\n",
    "    order_func_nb,\n",
    "    np.asarray(size),\n",
    "    np.asarray(ohlcv['Open']),\n",
    "    np.asarray(0.001),\n",
    "    np.asarray(0.001),\n",
    "    post_segment_func_nb=post_segment_func_nb,\n",
    "    post_segment_args=(returns_out,),\n",
    "    init_cash=pf_baseline.init_cash\n",
    ")\n",
    "\n",
    "returns = pf.wrapper.wrap(returns_out)\n",
    "del pf\n",
    "returns.vbt.returns(freq='d').sharpe_ratio()"
   ],
   "metadata": {
    "collapsed": false
   }
  }
 ],
 "metadata": {
  "kernelspec": {
   "display_name": "Python 3",
   "language": "python",
   "name": "python3"
  },
  "language_info": {
   "codemirror_mode": {
    "name": "ipython",
    "version": 2
   },
   "file_extension": ".py",
   "mimetype": "text/x-python",
   "name": "python",
   "nbconvert_exporter": "python",
   "pygments_lexer": "ipython2",
   "version": "2.7.6"
  }
 },
 "nbformat": 4,
 "nbformat_minor": 0
}
